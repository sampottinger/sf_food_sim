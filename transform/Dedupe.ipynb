{
 "cells": [
  {
   "cell_type": "code",
   "execution_count": 1,
   "metadata": {},
   "outputs": [],
   "source": [
    "import csv\n",
    "import itertools\n",
    "import math"
   ]
  },
  {
   "cell_type": "code",
   "execution_count": 2,
   "metadata": {},
   "outputs": [],
   "source": [
    "def transform_point(target):\n",
    "    return {\n",
    "        'featureType': target['featureType'],\n",
    "        'latitude': float(target['latitude']),\n",
    "        'longitude': float(target['longitude'])\n",
    "    }"
   ]
  },
  {
   "cell_type": "code",
   "execution_count": 3,
   "metadata": {},
   "outputs": [],
   "source": [
    "with open('combined_no_dedupe.csv') as f:\n",
    "    points = [transform_point(x) for x in csv.DictReader(f)]"
   ]
  },
  {
   "cell_type": "code",
   "execution_count": 4,
   "metadata": {},
   "outputs": [],
   "source": [
    "already_seen = {'supermarket': [], 'fastFood': [], 'home': []}"
   ]
  },
  {
   "cell_type": "code",
   "execution_count": 5,
   "metadata": {},
   "outputs": [],
   "source": [
    "for point in points:\n",
    "    feature_type = point['featureType']\n",
    "    target_list = already_seen[feature_type]\n",
    "    \n",
    "    def get_distance(other):\n",
    "        latitude_diff = abs(other['latitude'] - point['latitude'])\n",
    "        longitude_diff = abs(other['longitude'] - point['longitude'])\n",
    "        return math.sqrt(latitude_diff ** 2 + longitude_diff ** 2)\n",
    "    \n",
    "    matching = filter(lambda x: get_distance(x) < 0.001, target_list)\n",
    "    num_matching = sum(map(lambda x: 1, matching))\n",
    "    \n",
    "    if num_matching == 0:\n",
    "        target_list.append(point)"
   ]
  },
  {
   "cell_type": "code",
   "execution_count": 6,
   "metadata": {},
   "outputs": [],
   "source": [
    "all_records = itertools.chain(*already_seen.values())"
   ]
  },
  {
   "cell_type": "code",
   "execution_count": 7,
   "metadata": {},
   "outputs": [],
   "source": [
    "with open('combined_dedupe.csv', 'w') as f:\n",
    "    writer = csv.DictWriter(f, fieldnames=['featureType', 'latitude', 'longitude'])\n",
    "    writer.writeheader()\n",
    "    writer.writerows(all_records)"
   ]
  },
  {
   "cell_type": "code",
   "execution_count": null,
   "metadata": {},
   "outputs": [],
   "source": []
  }
 ],
 "metadata": {
  "kernelspec": {
   "display_name": "Python 3",
   "language": "python",
   "name": "python3"
  },
  "language_info": {
   "codemirror_mode": {
    "name": "ipython",
    "version": 3
   },
   "file_extension": ".py",
   "mimetype": "text/x-python",
   "name": "python",
   "nbconvert_exporter": "python",
   "pygments_lexer": "ipython3",
   "version": "3.8.5"
  }
 },
 "nbformat": 4,
 "nbformat_minor": 4
}
